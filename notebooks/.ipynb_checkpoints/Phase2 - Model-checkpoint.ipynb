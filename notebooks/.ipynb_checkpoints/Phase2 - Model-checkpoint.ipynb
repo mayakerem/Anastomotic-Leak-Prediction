{
 "cells": [
  {
   "cell_type": "markdown",
   "metadata": {},
   "source": [
    "# Anastomotic Leakage Prediction\n",
    "### Phase 2 - ML Model"
   ]
  },
  {
   "cell_type": "markdown",
   "metadata": {},
   "source": [
    "https://www.kaggle.com/prashant111/naive-bayes-classifier-in-python"
   ]
  },
  {
   "cell_type": "code",
   "execution_count": 33,
   "metadata": {},
   "outputs": [],
   "source": [
    "import pandas as pd\n",
    "import numpy as np\n",
    "import re\n",
    "import math\n",
    "import seaborn as sns\n",
    "import matplotlib.pyplot as plt\n",
    "%matplotlib inline  \n",
    "from datetime import datetime\n",
    "from datetime import date \n",
    "from scipy import stats\n",
    "import statsmodels.stats as ss \n",
    "\n",
    "import warnings\n",
    "warnings.filterwarnings(\"ignore\")\n",
    "from sklearn.model_selection import train_test_split\n",
    "from sklearn.naive_bayes import GaussianNB\n",
    "from sklearn.metrics import accuracy_score\n",
    "from sklearn.metrics import recall_score\n",
    "from sklearn.metrics import precision_score\n",
    "from sklearn.metrics import roc_curve"
   ]
  },
  {
   "cell_type": "markdown",
   "metadata": {},
   "source": [
    "### Import data"
   ]
  },
  {
   "cell_type": "code",
   "execution_count": 24,
   "metadata": {},
   "outputs": [],
   "source": [
    "# RAW DATA\n",
    "before_surgery_data = pd.read_excel(r'../generated_data/raw-data-before-surgery.xlsx', engine='openpyxl')\n",
    "# after_surgery_data = pd.read_excel(r'../generated_data/raw-data-after-surgery.xlsx')\n",
    "# delta = pd.read_excel(r'../generated_data/raw-data-delta-surgery.xlsx')\n",
    "\n",
    "# ALL FEATURES STATS (CV AND PVALUE)\n",
    "# stats_before_surgery_data = pd.read_excel(r'../generated_data/stats-before-surgery.xlsx')\n",
    "# stats_after_surgery_data = pd.read_excel(r'../generated_data/stats-after-surgery.xlsx')\n",
    "# stats_surgery_data_delta = pd.read_excel(r'../generated_data/stats-delta-surgery.xlsx')\n",
    "\n",
    "# AFTER WRS STATS (CV AND PVALUE\n",
    "before_surgery_wrs = pd.read_excel(r'../generated_data/wrs-before-surgery.xlsx', engine='openpyxl')\n",
    "# after_surgery_final_features_corr = pd.read_excel(r'../generated_data/stats-wrs-after-surgery.xlsx')\n",
    "# delta_surgery_final_features_corr = pd.read_excel(r'../generated_data/stats-wrs-delta-surgery.xlsx')\n",
    "\n",
    "# FDR STATS (CV AND PVALUE\n",
    "# stats_before_surgery_data_fdr = pd.read_excel((r'../generated_data/stats-fdr-before-surgery.xlsx', index = False)\n",
    "# stats_after_surgery_data_fdr = pd.read_excel((r'../generated_data/stats-fdr-after-surgery.xlsx', index = False)\n",
    "# stats_surgery_data_delta_fdr = pd.read_excel((r'../generated_data/stats-fdr-delta-surgery.xlsx', index = False)\n"
   ]
  },
  {
   "cell_type": "markdown",
   "metadata": {},
   "source": [
    "### Model Functions"
   ]
  },
  {
   "cell_type": "code",
   "execution_count": 25,
   "metadata": {},
   "outputs": [],
   "source": [
    "#  train_test_split(before_surgery_data.iloc[:,1:], before_surgery_data.iloc[:,0:1], test_size=0.33, random_state=42)\n",
    "def split_data(X,y,fillna):\n",
    "    X_train, X_test, y_train, y_test = train_test_split(X, y, test_size=0.33, random_state=2)\n",
    "    if fillna == 'mean':\n",
    "        X_test.fillna(X_test.mean(),inplace=True)\n",
    "        X_train.fillna(X_train.mean(),inplace=True)\n",
    "    return X_train, X_test, y_train, y_test"
   ]
  },
  {
   "cell_type": "code",
   "execution_count": 37,
   "metadata": {},
   "outputs": [],
   "source": [
    "# Train a Gaussian Naive Bayes classifier on the training set\n",
    "def nb_model(X_train,y_train):\n",
    "    # instantiate the model\n",
    "    gnb = GaussianNB()\n",
    "    # fit the model\n",
    "    gnb.fit(X_train, y_train)\n",
    "    return gnb\n",
    "\n",
    "def get_preformance(gnb, X_test, y_train, y_test):\n",
    "    y_pred_test = gnb.predict(X_test)\n",
    "    acc_score = accuracy_score(y_test, y_pred_test)\n",
    "    rec_score = recall_score(y_test, y_pred_test, average=\"weighted\")\n",
    "    prec_score = precision_score(y_test, y_pred_test, average=\"weighted\")\n",
    "    return y_pred_test, acc_score, rec_score, prec_score"
   ]
  },
  {
   "cell_type": "markdown",
   "metadata": {},
   "source": [
    "#### Models training"
   ]
  },
  {
   "cell_type": "markdown",
   "metadata": {},
   "source": [
    "##### Before Surgery Only - Removing data with missing values, all features"
   ]
  },
  {
   "cell_type": "code",
   "execution_count": 38,
   "metadata": {},
   "outputs": [
    {
     "name": "stdout",
     "output_type": "stream",
     "text": [
      "Data Shape (229, 54)\n"
     ]
    }
   ],
   "source": [
    "data = before_surgery_data.dropna(how='any')\n",
    "print(f'Data Shape {data.shape}')\n",
    "X_train, X_test, y_train, y_test = split_data(data.drop('Anastomotic Leak', axis=1),\n",
    "                                              data['Anastomotic Leak'],\n",
    "                                              fillna = False)\n",
    "gnb1 = nb_model(X_train,y_train)\n",
    "y_pred_test, acc_score, rec_score, prec_score = get_preformance(gnb1, X_test, y_train, y_test)"
   ]
  },
  {
   "cell_type": "code",
   "execution_count": 39,
   "metadata": {},
   "outputs": [
    {
     "name": "stdout",
     "output_type": "stream",
     "text": [
      "Accuracy: 0.75\n",
      "Recall: 0.75\n",
      "Precision: 0.8541089566020313\n"
     ]
    }
   ],
   "source": [
    "print(f'Accuracy: {acc_score}')\n",
    "print(f'Recall: {rec_score}')\n",
    "print(f'Precision: {prec_score}')"
   ]
  },
  {
   "cell_type": "code",
   "execution_count": 50,
   "metadata": {},
   "outputs": [],
   "source": [
    "false_positive_rate1, true_positive_rate1, thresholds1 = roc_curve(y_test, y_pred_test)"
   ]
  },
  {
   "cell_type": "markdown",
   "metadata": {},
   "source": [
    "##### Before Surgery Only - Replacing missing values with mean, all features"
   ]
  },
  {
   "cell_type": "code",
   "execution_count": 47,
   "metadata": {},
   "outputs": [
    {
     "name": "stdout",
     "output_type": "stream",
     "text": [
      "Data Shape (524, 54)\n"
     ]
    }
   ],
   "source": [
    "data = before_surgery_data\n",
    "print(f'Data Shape {data.shape}')\n",
    "X_train, X_test, y_train, y_test = split_data(data.drop('Anastomotic Leak', axis=1),\n",
    "                                              data['Anastomotic Leak'],\n",
    "                                              fillna = 'mean')\n",
    "gnb2 = nb_model(X_train,y_train)\n",
    "y_pred_test, acc_score, rec_score, prec_score = get_preformance(gnb2, X_test, y_train, y_test)"
   ]
  },
  {
   "cell_type": "code",
   "execution_count": 48,
   "metadata": {},
   "outputs": [
    {
     "name": "stdout",
     "output_type": "stream",
     "text": [
      "Accuracy: 0.7341040462427746\n",
      "Recall: 0.7341040462427746\n",
      "Precision: 0.8920064889810307\n"
     ]
    }
   ],
   "source": [
    "print(f'Accuracy: {acc_score}')\n",
    "print(f'Recall: {rec_score}')\n",
    "print(f'Precision: {prec_score}')"
   ]
  },
  {
   "cell_type": "code",
   "execution_count": 70,
   "metadata": {},
   "outputs": [
    {
     "data": {
      "image/png": "[encoded data removed]",
      "text/plain": [
       "<Figure size 432x288 with 1 Axes>"
      ]
     },
     "metadata": {
      "needs_background": "light"
     },
     "output_type": "display_data"
    }
   ],
   "source": [
    "false_positive_rate2, true_positive_rate2, thresholds2 = roc_curve(y_test, y_pred_test)\n",
    "\n",
    "# Plotting\n",
    "plt.title('ROC')\n",
    "plt.plot(false_positive_rate1, true_positive_rate1, color='red',lw=1)\n",
    "plt.plot(false_positive_rate2, true_positive_rate2, color='blue', lw=0.5)\n",
    "plt.plot([0,1],[0,1], color='lightgrey', linestyle='--')\n",
    "plt.xlim([-0.05,1.0])\n",
    "plt.ylim([0.0,1.05])\n",
    "plt.ylabel('True Positive Rate')\n",
    "plt.xlabel('False Positive Rate')\n",
    "plt.show()"
   ]
  },
  {
   "cell_type": "code",
   "execution_count": null,
   "metadata": {},
   "outputs": [],
   "source": []
  },
  {
   "cell_type": "code",
   "execution_count": null,
   "metadata": {},
   "outputs": [],
   "source": []
  },
  {
   "cell_type": "code",
   "execution_count": null,
   "metadata": {},
   "outputs": [],
   "source": []
  },
  {
   "cell_type": "markdown",
   "metadata": {},
   "source": [
    "##### Before Surgery Only - Removing data with missing values, WRS features"
   ]
  },
  {
   "cell_type": "code",
   "execution_count": 12,
   "metadata": {},
   "outputs": [
    {
     "data": {
      "text/html": [
       "<div>\n",
       "<style scoped>\n",
       "    .dataframe tbody tr th:only-of-type {\n",
       "        vertical-align: middle;\n",
       "    }\n",
       "\n",
       "    .dataframe tbody tr th {\n",
       "        vertical-align: top;\n",
       "    }\n",
       "\n",
       "    .dataframe thead th {\n",
       "        text-align: right;\n",
       "    }\n",
       "</style>\n",
       "<table border=\"1\" class=\"dataframe\">\n",
       "  <thead>\n",
       "    <tr style=\"text-align: right;\">\n",
       "      <th></th>\n",
       "      <th>HCT</th>\n",
       "      <th>BMI</th>\n",
       "      <th>LYMPHO (%)</th>\n",
       "      <th>Estimated Globulin</th>\n",
       "      <th>Amylase</th>\n",
       "      <th>Bilirubin, direct</th>\n",
       "      <th>Phosphorus</th>\n",
       "      <th>Chloride</th>\n",
       "      <th>heart rate</th>\n",
       "      <th>Urea</th>\n",
       "      <th>...</th>\n",
       "      <th>RDW</th>\n",
       "      <th>PCT</th>\n",
       "      <th>Potassium</th>\n",
       "      <th>MONO (%)</th>\n",
       "      <th>MCV</th>\n",
       "      <th>saturation</th>\n",
       "      <th>Magnesium</th>\n",
       "      <th>Nucleated RBC (%)</th>\n",
       "      <th>Nucleated RBC (abs)</th>\n",
       "      <th>Anastomotic Leak</th>\n",
       "    </tr>\n",
       "  </thead>\n",
       "  <tbody>\n",
       "    <tr>\n",
       "      <th>0</th>\n",
       "      <td>NaN</td>\n",
       "      <td>NaN</td>\n",
       "      <td>NaN</td>\n",
       "      <td>NaN</td>\n",
       "      <td>NaN</td>\n",
       "      <td>NaN</td>\n",
       "      <td>NaN</td>\n",
       "      <td>NaN</td>\n",
       "      <td>NaN</td>\n",
       "      <td>NaN</td>\n",
       "      <td>...</td>\n",
       "      <td>NaN</td>\n",
       "      <td>NaN</td>\n",
       "      <td>NaN</td>\n",
       "      <td>NaN</td>\n",
       "      <td>NaN</td>\n",
       "      <td>NaN</td>\n",
       "      <td>NaN</td>\n",
       "      <td>NaN</td>\n",
       "      <td>NaN</td>\n",
       "      <td>0</td>\n",
       "    </tr>\n",
       "    <tr>\n",
       "      <th>1</th>\n",
       "      <td>41.040000</td>\n",
       "      <td>38.8</td>\n",
       "      <td>35.600000</td>\n",
       "      <td>3.000000</td>\n",
       "      <td>53.000000</td>\n",
       "      <td>0.06</td>\n",
       "      <td>3.200000</td>\n",
       "      <td>102.000000</td>\n",
       "      <td>75.500000</td>\n",
       "      <td>24.0</td>\n",
       "      <td>...</td>\n",
       "      <td>14.680000</td>\n",
       "      <td>0.230000</td>\n",
       "      <td>4.300000</td>\n",
       "      <td>6.600000</td>\n",
       "      <td>86.440000</td>\n",
       "      <td>99.000000</td>\n",
       "      <td>2.200000</td>\n",
       "      <td>0.000000</td>\n",
       "      <td>0.000000</td>\n",
       "      <td>0</td>\n",
       "    </tr>\n",
       "    <tr>\n",
       "      <th>2</th>\n",
       "      <td>35.210000</td>\n",
       "      <td>NaN</td>\n",
       "      <td>27.600000</td>\n",
       "      <td>2.600000</td>\n",
       "      <td>NaN</td>\n",
       "      <td>NaN</td>\n",
       "      <td>3.600000</td>\n",
       "      <td>101.000000</td>\n",
       "      <td>89.000000</td>\n",
       "      <td>28.0</td>\n",
       "      <td>...</td>\n",
       "      <td>15.205152</td>\n",
       "      <td>0.260000</td>\n",
       "      <td>4.300000</td>\n",
       "      <td>6.300000</td>\n",
       "      <td>71.570000</td>\n",
       "      <td>98.000000</td>\n",
       "      <td>NaN</td>\n",
       "      <td>0.000000</td>\n",
       "      <td>0.000000</td>\n",
       "      <td>0</td>\n",
       "    </tr>\n",
       "    <tr>\n",
       "      <th>3</th>\n",
       "      <td>29.750714</td>\n",
       "      <td>23.6</td>\n",
       "      <td>8.014286</td>\n",
       "      <td>2.392857</td>\n",
       "      <td>32.692308</td>\n",
       "      <td>0.18</td>\n",
       "      <td>2.671429</td>\n",
       "      <td>100.142857</td>\n",
       "      <td>94.351145</td>\n",
       "      <td>37.0</td>\n",
       "      <td>...</td>\n",
       "      <td>14.456429</td>\n",
       "      <td>0.241429</td>\n",
       "      <td>3.660263</td>\n",
       "      <td>5.021429</td>\n",
       "      <td>83.272857</td>\n",
       "      <td>96.309524</td>\n",
       "      <td>2.038462</td>\n",
       "      <td>0.685714</td>\n",
       "      <td>0.021429</td>\n",
       "      <td>0</td>\n",
       "    </tr>\n",
       "    <tr>\n",
       "      <th>4</th>\n",
       "      <td>NaN</td>\n",
       "      <td>NaN</td>\n",
       "      <td>NaN</td>\n",
       "      <td>NaN</td>\n",
       "      <td>NaN</td>\n",
       "      <td>NaN</td>\n",
       "      <td>NaN</td>\n",
       "      <td>NaN</td>\n",
       "      <td>105.000000</td>\n",
       "      <td>NaN</td>\n",
       "      <td>...</td>\n",
       "      <td>NaN</td>\n",
       "      <td>NaN</td>\n",
       "      <td>3.460000</td>\n",
       "      <td>NaN</td>\n",
       "      <td>NaN</td>\n",
       "      <td>95.000000</td>\n",
       "      <td>NaN</td>\n",
       "      <td>NaN</td>\n",
       "      <td>NaN</td>\n",
       "      <td>0</td>\n",
       "    </tr>\n",
       "  </tbody>\n",
       "</table>\n",
       "<p>5 rows × 34 columns</p>\n",
       "</div>"
      ],
      "text/plain": [
       "         HCT   BMI  LYMPHO (%)  Estimated Globulin    Amylase  \\\n",
       "0        NaN   NaN         NaN                 NaN        NaN   \n",
       "1  41.040000  38.8   35.600000            3.000000  53.000000   \n",
       "2  35.210000   NaN   27.600000            2.600000        NaN   \n",
       "3  29.750714  23.6    8.014286            2.392857  32.692308   \n",
       "4        NaN   NaN         NaN                 NaN        NaN   \n",
       "\n",
       "   Bilirubin, direct  Phosphorus    Chloride  heart rate  Urea  ...  \\\n",
       "0                NaN         NaN         NaN         NaN   NaN  ...   \n",
       "1               0.06    3.200000  102.000000   75.500000  24.0  ...   \n",
       "2                NaN    3.600000  101.000000   89.000000  28.0  ...   \n",
       "3               0.18    2.671429  100.142857   94.351145  37.0  ...   \n",
       "4                NaN         NaN         NaN  105.000000   NaN  ...   \n",
       "\n",
       "         RDW       PCT  Potassium  MONO (%)        MCV  saturation  Magnesium  \\\n",
       "0        NaN       NaN        NaN       NaN        NaN         NaN        NaN   \n",
       "1  14.680000  0.230000   4.300000  6.600000  86.440000   99.000000   2.200000   \n",
       "2  15.205152  0.260000   4.300000  6.300000  71.570000   98.000000        NaN   \n",
       "3  14.456429  0.241429   3.660263  5.021429  83.272857   96.309524   2.038462   \n",
       "4        NaN       NaN   3.460000       NaN        NaN   95.000000        NaN   \n",
       "\n",
       "   Nucleated RBC (%)  Nucleated RBC (abs)  Anastomotic Leak  \n",
       "0                NaN                  NaN                 0  \n",
       "1           0.000000             0.000000                 0  \n",
       "2           0.000000             0.000000                 0  \n",
       "3           0.685714             0.021429                 0  \n",
       "4                NaN                  NaN                 0  \n",
       "\n",
       "[5 rows x 34 columns]"
      ]
     },
     "execution_count": 12,
     "metadata": {},
     "output_type": "execute_result"
    }
   ],
   "source": [
    "before_surgery_wrs.head()"
   ]
  },
  {
   "cell_type": "code",
   "execution_count": 15,
   "metadata": {},
   "outputs": [
    {
     "name": "stdout",
     "output_type": "stream",
     "text": [
      "Data Shape (231, 34)\n"
     ]
    }
   ],
   "source": [
    "data = before_surgery_wrs.dropna(how='any')\n",
    "print(f'Data Shape {data.shape}')\n",
    "X_train, X_test, y_train, y_test = split_data(data.drop('Anastomotic Leak', axis=1),\n",
    "                                              data['Anastomotic Leak'],\n",
    "                                              fillna = False)\n",
    "gnb3 = nb_model(X_train,y_train)"
   ]
  },
  {
   "cell_type": "code",
   "execution_count": 16,
   "metadata": {},
   "outputs": [
    {
     "ename": "ValueError",
     "evalue": "operands could not be broadcast together with shapes (77,33) (53,) ",
     "output_type": "error",
     "traceback": [
      "\u001b[0;31m---------------------------------------------------------------------------\u001b[0m",
      "\u001b[0;31mValueError\u001b[0m                                Traceback (most recent call last)",
      "\u001b[0;32m<ipython-input-16-ed57f17afe86>\u001b[0m in \u001b[0;36m<module>\u001b[0;34m\u001b[0m\n\u001b[0;32m----> 1\u001b[0;31m \u001b[0mpredict_get_accuracy\u001b[0m\u001b[0;34m(\u001b[0m\u001b[0mgnb3\u001b[0m\u001b[0;34m,\u001b[0m \u001b[0mX_train\u001b[0m\u001b[0;34m,\u001b[0m \u001b[0mX_test\u001b[0m\u001b[0;34m,\u001b[0m \u001b[0my_train\u001b[0m\u001b[0;34m,\u001b[0m \u001b[0my_test\u001b[0m\u001b[0;34m)\u001b[0m\u001b[0;34m\u001b[0m\u001b[0;34m\u001b[0m\u001b[0m\n\u001b[0m",
      "\u001b[0;32m<ipython-input-7-f5b0e3089182>\u001b[0m in \u001b[0;36mpredict_get_accuracy\u001b[0;34m(gbn, X_train, X_test, y_train, y_test)\u001b[0m\n\u001b[1;32m      8\u001b[0m \u001b[0;34m\u001b[0m\u001b[0m\n\u001b[1;32m      9\u001b[0m \u001b[0;32mdef\u001b[0m \u001b[0mpredict_get_accuracy\u001b[0m\u001b[0;34m(\u001b[0m\u001b[0mgbn\u001b[0m\u001b[0;34m,\u001b[0m \u001b[0mX_train\u001b[0m\u001b[0;34m,\u001b[0m \u001b[0mX_test\u001b[0m\u001b[0;34m,\u001b[0m \u001b[0my_train\u001b[0m\u001b[0;34m,\u001b[0m \u001b[0my_test\u001b[0m\u001b[0;34m)\u001b[0m\u001b[0;34m:\u001b[0m\u001b[0;34m\u001b[0m\u001b[0;34m\u001b[0m\u001b[0m\n\u001b[0;32m---> 10\u001b[0;31m     \u001b[0my_pred\u001b[0m \u001b[0;34m=\u001b[0m \u001b[0mgnb\u001b[0m\u001b[0;34m.\u001b[0m\u001b[0mpredict\u001b[0m\u001b[0;34m(\u001b[0m\u001b[0mX_test\u001b[0m\u001b[0;34m)\u001b[0m\u001b[0;34m\u001b[0m\u001b[0;34m\u001b[0m\u001b[0m\n\u001b[0m\u001b[1;32m     11\u001b[0m     \u001b[0mprint\u001b[0m\u001b[0;34m(\u001b[0m\u001b[0;34m'Model accuracy score: {0:0.4f}'\u001b[0m\u001b[0;34m.\u001b[0m \u001b[0mformat\u001b[0m\u001b[0;34m(\u001b[0m\u001b[0maccuracy_score\u001b[0m\u001b[0;34m(\u001b[0m\u001b[0my_test\u001b[0m\u001b[0;34m,\u001b[0m \u001b[0my_pred\u001b[0m\u001b[0;34m)\u001b[0m\u001b[0;34m)\u001b[0m\u001b[0;34m)\u001b[0m\u001b[0;34m\u001b[0m\u001b[0;34m\u001b[0m\u001b[0m\n\u001b[1;32m     12\u001b[0m     \u001b[0my_pred_train\u001b[0m \u001b[0;34m=\u001b[0m \u001b[0mgnb\u001b[0m\u001b[0;34m.\u001b[0m\u001b[0mpredict\u001b[0m\u001b[0;34m(\u001b[0m\u001b[0mX_train\u001b[0m\u001b[0;34m)\u001b[0m\u001b[0;34m\u001b[0m\u001b[0;34m\u001b[0m\u001b[0m\n",
      "\u001b[0;32m~/opt/anaconda3/lib/python3.7/site-packages/sklearn/naive_bayes.py\u001b[0m in \u001b[0;36mpredict\u001b[0;34m(self, X)\u001b[0m\n\u001b[1;32m     64\u001b[0m             \u001b[0mPredicted\u001b[0m \u001b[0mtarget\u001b[0m \u001b[0mvalues\u001b[0m \u001b[0;32mfor\u001b[0m \u001b[0mX\u001b[0m\u001b[0;34m\u001b[0m\u001b[0;34m\u001b[0m\u001b[0m\n\u001b[1;32m     65\u001b[0m         \"\"\"\n\u001b[0;32m---> 66\u001b[0;31m         \u001b[0mjll\u001b[0m \u001b[0;34m=\u001b[0m \u001b[0mself\u001b[0m\u001b[0;34m.\u001b[0m\u001b[0m_joint_log_likelihood\u001b[0m\u001b[0;34m(\u001b[0m\u001b[0mX\u001b[0m\u001b[0;34m)\u001b[0m\u001b[0;34m\u001b[0m\u001b[0;34m\u001b[0m\u001b[0m\n\u001b[0m\u001b[1;32m     67\u001b[0m         \u001b[0;32mreturn\u001b[0m \u001b[0mself\u001b[0m\u001b[0;34m.\u001b[0m\u001b[0mclasses_\u001b[0m\u001b[0;34m[\u001b[0m\u001b[0mnp\u001b[0m\u001b[0;34m.\u001b[0m\u001b[0margmax\u001b[0m\u001b[0;34m(\u001b[0m\u001b[0mjll\u001b[0m\u001b[0;34m,\u001b[0m \u001b[0maxis\u001b[0m\u001b[0;34m=\u001b[0m\u001b[0;36m1\u001b[0m\u001b[0;34m)\u001b[0m\u001b[0;34m]\u001b[0m\u001b[0;34m\u001b[0m\u001b[0;34m\u001b[0m\u001b[0m\n\u001b[1;32m     68\u001b[0m \u001b[0;34m\u001b[0m\u001b[0m\n",
      "\u001b[0;32m~/opt/anaconda3/lib/python3.7/site-packages/sklearn/naive_bayes.py\u001b[0m in \u001b[0;36m_joint_log_likelihood\u001b[0;34m(self, X)\u001b[0m\n\u001b[1;32m    435\u001b[0m             \u001b[0mjointi\u001b[0m \u001b[0;34m=\u001b[0m \u001b[0mnp\u001b[0m\u001b[0;34m.\u001b[0m\u001b[0mlog\u001b[0m\u001b[0;34m(\u001b[0m\u001b[0mself\u001b[0m\u001b[0;34m.\u001b[0m\u001b[0mclass_prior_\u001b[0m\u001b[0;34m[\u001b[0m\u001b[0mi\u001b[0m\u001b[0;34m]\u001b[0m\u001b[0;34m)\u001b[0m\u001b[0;34m\u001b[0m\u001b[0;34m\u001b[0m\u001b[0m\n\u001b[1;32m    436\u001b[0m             \u001b[0mn_ij\u001b[0m \u001b[0;34m=\u001b[0m \u001b[0;34m-\u001b[0m \u001b[0;36m0.5\u001b[0m \u001b[0;34m*\u001b[0m \u001b[0mnp\u001b[0m\u001b[0;34m.\u001b[0m\u001b[0msum\u001b[0m\u001b[0;34m(\u001b[0m\u001b[0mnp\u001b[0m\u001b[0;34m.\u001b[0m\u001b[0mlog\u001b[0m\u001b[0;34m(\u001b[0m\u001b[0;36m2.\u001b[0m \u001b[0;34m*\u001b[0m \u001b[0mnp\u001b[0m\u001b[0;34m.\u001b[0m\u001b[0mpi\u001b[0m \u001b[0;34m*\u001b[0m \u001b[0mself\u001b[0m\u001b[0;34m.\u001b[0m\u001b[0msigma_\u001b[0m\u001b[0;34m[\u001b[0m\u001b[0mi\u001b[0m\u001b[0;34m,\u001b[0m \u001b[0;34m:\u001b[0m\u001b[0;34m]\u001b[0m\u001b[0;34m)\u001b[0m\u001b[0;34m)\u001b[0m\u001b[0;34m\u001b[0m\u001b[0;34m\u001b[0m\u001b[0m\n\u001b[0;32m--> 437\u001b[0;31m             n_ij -= 0.5 * np.sum(((X - self.theta_[i, :]) ** 2) /\n\u001b[0m\u001b[1;32m    438\u001b[0m                                  (self.sigma_[i, :]), 1)\n\u001b[1;32m    439\u001b[0m             \u001b[0mjoint_log_likelihood\u001b[0m\u001b[0;34m.\u001b[0m\u001b[0mappend\u001b[0m\u001b[0;34m(\u001b[0m\u001b[0mjointi\u001b[0m \u001b[0;34m+\u001b[0m \u001b[0mn_ij\u001b[0m\u001b[0;34m)\u001b[0m\u001b[0;34m\u001b[0m\u001b[0;34m\u001b[0m\u001b[0m\n",
      "\u001b[0;31mValueError\u001b[0m: operands could not be broadcast together with shapes (77,33) (53,) "
     ]
    }
   ],
   "source": [
    "predict_get_accuracy(gnb3, X_train, X_test, y_train, y_test)"
   ]
  },
  {
   "cell_type": "markdown",
   "metadata": {},
   "source": [
    "##### Before Surgery Only - Replacing data with mean, WRS features"
   ]
  },
  {
   "cell_type": "code",
   "execution_count": 14,
   "metadata": {},
   "outputs": [
    {
     "name": "stdout",
     "output_type": "stream",
     "text": [
      "Data Shape (524, 34)\n"
     ]
    },
    {
     "data": {
      "text/plain": [
       "GaussianNB(priors=None, var_smoothing=1e-09)"
      ]
     },
     "execution_count": 14,
     "metadata": {},
     "output_type": "execute_result"
    }
   ],
   "source": [
    "data = before_surgery_wrs\n",
    "print(f'Data Shape {data.shape}')\n",
    "data.head()\n",
    "X_train, X_test, y_train, y_test = split_data(data.drop('Anastomotic Leak', axis=1),\n",
    "                                              data['Anastomotic Leak'],\n",
    "                                              fillna = 'mean')\n",
    "# print(X_train,y_train)\n",
    "nb_model(X_train,y_train)"
   ]
  },
  {
   "cell_type": "code",
   "execution_count": 15,
   "metadata": {},
   "outputs": [
    {
     "name": "stdout",
     "output_type": "stream",
     "text": [
      "Model accuracy score: 0.7341\n",
      "Training-set accuracy score: 0.7977\n"
     ]
    }
   ],
   "source": [
    "X_test\n",
    "predict_get_accuracy(X_train, X_test, y_train, y_test)"
   ]
  },
  {
   "cell_type": "markdown",
   "metadata": {},
   "source": [
    "##### Before and After Surgery Only - Removing data with missing values, ALL features"
   ]
  },
  {
   "cell_type": "code",
   "execution_count": 240,
   "metadata": {},
   "outputs": [],
   "source": [
    "# before_after_events = pd.concat([before_surgery_data.add_suffix('_BS'), after_surgery_data.iloc[:,1:].add_suffix('_AS')], axis=1)\n",
    "# before_after_events\n",
    "\n",
    "# data = before_after_events\n",
    "# print(f'Data Shape {before_after_events.shape}')\n",
    "# data\n",
    "\n",
    "# X_train, X_test, y_train, y_test = split_data(data.drop('Anastomotic Leak', axis=1),\n",
    "#                                               data['Anastomotic Leak'],\n",
    "#                                               fillna = 'mean')\n",
    "# nb_model(X_train,y_train)\n",
    "# predict_get_accuracy(X_train, X_test, y_train, y_test)"
   ]
  },
  {
   "cell_type": "code",
   "execution_count": null,
   "metadata": {},
   "outputs": [],
   "source": []
  }
 ],
 "metadata": {
  "kernelspec": {
   "display_name": "SciPhy",
   "language": "python",
   "name": "sciphy"
  },
  "language_info": {
   "codemirror_mode": {
    "name": "ipython",
    "version": 3
   },
   "file_extension": ".py",
   "mimetype": "text/x-python",
   "name": "python",
   "nbconvert_exporter": "python",
   "pygments_lexer": "ipython3",
   "version": "3.7.7"
  }
 },
 "nbformat": 4,
 "nbformat_minor": 4
}
